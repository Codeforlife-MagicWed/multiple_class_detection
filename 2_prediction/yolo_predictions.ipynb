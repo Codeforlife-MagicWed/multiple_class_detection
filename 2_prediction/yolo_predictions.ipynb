{
 "cells": [
  {
   "cell_type": "code",
   "execution_count": 1,
   "id": "99a99d30-498b-4b66-b90d-212e312666a0",
   "metadata": {},
   "outputs": [],
   "source": [
    "import cv2\n",
    "import numpy as np\n",
    "import yaml\n",
    "from yaml.loader import SafeLoader\n",
    "import os\n"
   ]
  },
  {
   "cell_type": "code",
   "execution_count": 2,
   "id": "f259b426",
   "metadata": {},
   "outputs": [],
   "source": [
    "# Load data.yaml\n",
    "with open('data.yaml', mode='r') as f:\n",
    "    data_yaml = yaml.load(f, Loader= SafeLoader) \n",
    "label = data_yaml['names']"
   ]
  },
  {
   "cell_type": "code",
   "execution_count": 3,
   "id": "5a39a161",
   "metadata": {},
   "outputs": [],
   "source": [
    "# Load YOLO model\n",
    "yolo = cv2.dnn.readNetFromONNX('./Model/weights/best.onnx')\n",
    "yolo.setPreferableBackend(cv2.dnn.DNN_BACKEND_OPENCV)\n",
    "yolo.setPreferableTarget(cv2.dnn.DNN_TARGET_CPU)"
   ]
  },
  {
   "cell_type": "code",
   "execution_count": 49,
   "id": "f08de1e2",
   "metadata": {},
   "outputs": [],
   "source": [
    "#  Load the image\n",
    "img = cv2.imread('./street_image.jpg')\n",
    "image = img.copy()\n",
    "h,w,d = image.shape\n",
    "\n",
    "# get the YOLO prediction from the the image\n",
    "# step-1 convert image into square image (array)\n",
    "max_hw =  max(h,w)\n",
    "square_img = np.zeros((max_hw,max_hw,3), dtype= np.uint8)\n",
    "square_img[0:h, 0:w] = image\n",
    "\n",
    "# step-2: get prediction from square array\n",
    "INPUT_WH_YOLO = 640\n",
    "# blob is a required format to work with module DNN\n",
    "blob = cv2.dnn.blobFromImage(square_img, 1/255, \n",
    "                             (INPUT_WH_YOLO,INPUT_WH_YOLO),\n",
    "                              swapRB=True, # Opencv read image with BGR but YOLO requires RGB format\n",
    "                              crop=False ) # crop = False: don't crop the image but resize to the fixed size by stretch or skewness\n",
    "yolo.setInput(blob) # Khi gọi yolo.setInput(blob), bạn đang nói với mô hình rằng \"dữ liệu đầu vào cho mô hình YOLO là blob này\".\n",
    "preds = yolo.forward() # predictions with YOLO"
   ]
  },
  {
   "cell_type": "code",
   "execution_count": 50,
   "id": "059618d0",
   "metadata": {},
   "outputs": [],
   "source": [
    "# Non Maximum Supression\n",
    "# step-1: filter detection based on confidence (0.4) and probability score (0.25)\n",
    "detections = preds[0] #reduce dimension of preds from (1, 25200, 25) to (25200, 25)\n",
    "boxes = []\n",
    "confidences = []\n",
    "classes = []\n",
    "\n",
    "img_w, img_h = max_hw, max_hw\n",
    "x_factor = img_w/INPUT_WH_YOLO\n",
    "y_factor = img_w/INPUT_WH_YOLO\n",
    "\n",
    "for i in range(len(detections)):\n",
    "    output = detections[i]\n",
    "    confidence = output[4] # output: x,y,w,h,prob,pclass\n",
    "    if confidence > 0.4:\n",
    "        class_score = output[5:].max() # maximun prob of 20 classes\n",
    "        class_id = output[5:].argmax() # position of maximun class (class label)\n",
    "        if class_score > 0.25:\n",
    "            cx, cy, w, h = output[0:4]\n",
    "            # construct bounding box\n",
    "            # left, top, width and height\n",
    "            left = int((cx - 0.5*w)*x_factor)\n",
    "            top = int((cy - 0.5*h)*y_factor)\n",
    "            width = int(w*x_factor)\n",
    "            height = int(h*y_factor)\n",
    "\n",
    "            box = np.array([left,top,width,height])\n",
    "\n",
    "            boxes.append(box)\n",
    "            confidences.append(class_score)\n",
    "            classes.append(class_id)\n",
    "# clean to make sure elements is in the same datatype\n",
    "boxes_np = np.array(boxes).tolist()\n",
    "confidences_np = np.array(confidences).tolist()\n",
    "\n",
    "# NMS\n",
    "index = cv2.dnn.NMSBoxes(boxes_np, confidences_np, 0.25, 0.4)"
   ]
  },
  {
   "cell_type": "code",
   "execution_count": 51,
   "id": "fbfde6a9",
   "metadata": {},
   "outputs": [
    {
     "data": {
      "text/plain": [
       "10"
      ]
     },
     "execution_count": 51,
     "metadata": {},
     "output_type": "execute_result"
    }
   ],
   "source": [
    "len(index)"
   ]
  },
  {
   "cell_type": "code",
   "execution_count": 52,
   "id": "cea1b19b",
   "metadata": {},
   "outputs": [],
   "source": [
    "#  Draw the bounding box\n",
    "for i in index:\n",
    "    x,y,w,h = boxes_np[i]\n",
    "    bb_confidence = int(confidences_np[i]*100)\n",
    "    bb_class = classes[i]\n",
    "    class_name = label[bb_class]\n",
    "\n",
    "    text = f'{class_name}: {bb_confidence}%'\n",
    "\n",
    "    cv2.rectangle(image, (x,y), (x+w, y+h), (0,255,0), 2)\n",
    "    # cv2.rectangle(image,(x,y-30),(x+w,y),(255,255,255),-1)\n",
    "\n",
    "    cv2.putText(image, text, (x,y-10), cv2.FONT_HERSHEY_COMPLEX, 0.7, (0,255,0), 1)"
   ]
  },
  {
   "cell_type": "code",
   "execution_count": 53,
   "id": "7a0c1a9d",
   "metadata": {},
   "outputs": [],
   "source": [
    "cv2.imshow('original',img)\n",
    "cv2.imshow('yolo_prediction',image)\n",
    "cv2.waitKey(0)\n",
    "cv2.destroyAllWindows()"
   ]
  },
  {
   "cell_type": "code",
   "execution_count": null,
   "id": "45f7ddea",
   "metadata": {},
   "outputs": [],
   "source": []
  }
 ],
 "metadata": {
  "kernelspec": {
   "display_name": "Python 3",
   "language": "python",
   "name": "python3"
  },
  "language_info": {
   "codemirror_mode": {
    "name": "ipython",
    "version": 3
   },
   "file_extension": ".py",
   "mimetype": "text/x-python",
   "name": "python",
   "nbconvert_exporter": "python",
   "pygments_lexer": "ipython3",
   "version": "3.11.9"
  }
 },
 "nbformat": 4,
 "nbformat_minor": 5
}
